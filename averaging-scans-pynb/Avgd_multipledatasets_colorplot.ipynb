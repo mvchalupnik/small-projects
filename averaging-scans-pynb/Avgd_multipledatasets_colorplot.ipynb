{
 "cells": [
  {
   "cell_type": "code",
   "execution_count": 1,
   "metadata": {
    "collapsed": true
   },
   "outputs": [],
   "source": [
    "import numpy as np\n",
    "import matplotlib.pyplot as plt\n",
    "from scipy import optimize\n",
    "%matplotlib notebook\n",
    "import random\n",
    "#from matplotlib.mlab import rec_groupby\n",
    "from os import listdir, mkdir, getcwd\n",
    "from os.path import isfile, join, isdir"
   ]
  },
  {
   "cell_type": "code",
   "execution_count": 84,
   "metadata": {
    "collapsed": true
   },
   "outputs": [],
   "source": [
    "skip_rows = 18 #number of rows to skip in the header file\n",
    "bin_num = 0 #enter 0 for maximum bin number; else enter some other number\n",
    "\n",
    "file_loc = 'C:/Users/loncargroup/Desktop/OMC-SiV_data/20190205OMCR/aDs8a6m2b2_rank2_real/2020_08_07-B_field_map/'\n",
    "save_loc = getcwd().replace(\"\\\\\", r\"/\") + r'/plots/'\n",
    "\n",
    "b_fields = list(map(lambda s: '{:.1f}'.format(s), list(np.arange(0.5, 10.0, 0.5)))) # b fields scanned across, in order lowest to highest\n",
    "title_str = [] #leave empty for autofill scan date from file names\n",
    "x_wavelength = False #if true, plot x axis in wavelength, if false, plot in frequency"
   ]
  },
  {
   "cell_type": "code",
   "execution_count": 3,
   "metadata": {
    "collapsed": true
   },
   "outputs": [],
   "source": [
    "#grab and bin data\n",
    "\n",
    "def grab_data(datfile):\n",
    "    wavelength, N = np.loadtxt(datfile, unpack=True, skiprows=skip_rows)\n",
    "    data = np.zeros([2, len(wavelength)])\n",
    "    data[0,:] = wavelength\n",
    "    data[1,:] = N\n",
    "\n",
    "    #Don't plot initialization 0's\n",
    "    mask = (data==0).all(0)\n",
    "    start_idx = np.argmax(~mask)\n",
    "    data = data[:,start_idx:]\n",
    "    return data\n",
    "\n",
    "def bin_data(data, dmin, dmax,bn):\n",
    "    binnedData = np.zeros([2,len(data[0,:])])\n",
    "    wvlnList = np.linspace(dmin, dmax, bn)  \n",
    "\n",
    "    for m in range(len(data[0,:])):\n",
    "        ind = np.searchsorted(wvlnList, data[0,m])\n",
    "        binnedData[0,m] = wvlnList[ind]\n",
    "        binnedData[1,m] = data[1,m]\n",
    "    \n",
    "    setdif = np.setdiff1d(wvlnList, binnedData[0,:])\n",
    "    for i, sd in enumerate(setdif):\n",
    "        binnedData = np.append(binnedData, [[sd],[np.NaN]], axis=1)\n",
    "   \n",
    "    return binnedData\n",
    "            \n",
    "            \n",
    "def ave_data(bd):\n",
    "#average binned data and grab standard deviations for uncertainties \n",
    "    xs = bd[0,:]\n",
    "    ys = bd[1,:]\n",
    "\n",
    "    avexs = np.unique(bd[0,:])\n",
    "    aveys = np.empty(avexs.shape)\n",
    "    stdys = np.empty(avexs.shape)\n",
    "\n",
    "    for i, x in enumerate(avexs):\n",
    "        aveys[i] = np.mean(ys[xs == x])\n",
    "\n",
    "    for i, x in enumerate(avexs):\n",
    "        stdys[i] = np.std(ys[xs == x])\n",
    "\n",
    "\n",
    "    aveBinnedData = np.empty([2, len(avexs)])\n",
    "    aveBinnedData[0,:] = avexs\n",
    "    aveBinnedData[1,:] = aveys\n",
    "    \n",
    "    aveys = np.where(aveys == 0, 1, aveys) \n",
    "    dN = stdys/np.sqrt(aveys)\n",
    "    for i, value in enumerate(dN):\n",
    "        if value == 0:\n",
    "            dN[i] = 1.14 #\n",
    "    \n",
    "    return aveBinnedData, dN"
   ]
  },
  {
   "cell_type": "code",
   "execution_count": 4,
   "metadata": {
    "collapsed": true
   },
   "outputs": [],
   "source": [
    "def limitvals(sdl):\n",
    "    #flatten big superdatalist to find overall max, min, binnum, etc\n",
    "    dl = []\n",
    "    for sublist in sdl:\n",
    "        for item in sublist:\n",
    "            dl.append(item)\n",
    "    minwvlns = np.zeros(len(dl))\n",
    "    maxwvlns = np.zeros(len(dl))\n",
    "    binnums = np.zeros(len(dl))\n",
    "    \n",
    "    for i, d in enumerate(dl):\n",
    "        wavelength, N = np.loadtxt(d, unpack=True, skiprows=skip_rows)\n",
    "        minwvlns[i] = min(wavelength)\n",
    "        maxwvlns[i] = max(wavelength)\n",
    "        binnums[i] = len(np.unique(wavelength))\n",
    "    \n",
    "    return min(minwvlns), max(maxwvlns), int(min(binnums))\n",
    "\n",
    "def smoosh_arrays(dl, dmin, dmax, bn):\n",
    "    \n",
    "    arr = list()\n",
    "    for d in dl:\n",
    "        dat = grab_data(d)\n",
    "        \n",
    "        bd = bin_data(dat, dmin, dmax, bn)        \n",
    "        avg2, dN = ave_data(bd)\n",
    "\n",
    "        arr.append(avg2[1,:])\n",
    "    return arr, avg2[0,:]\n"
   ]
  },
  {
   "cell_type": "code",
   "execution_count": 5,
   "metadata": {
    "collapsed": true
   },
   "outputs": [],
   "source": [
    "def plot_individual_figure(B, numScans, xs, means, stds):\n",
    "\n",
    "    channel = xs\n",
    "    N = means\n",
    "    dN = stds\n",
    "\n",
    "    fig = plt.figure()\n",
    "\n",
    "    ax = fig.add_subplot(111)\n",
    "    fig.subplots_adjust(top=0.85)\n",
    "\n",
    "    ax.errorbar(channel, N, dN, fmt='ko', markersize=2 ,elinewidth = .6,zorder=1)\n",
    "    fg = plt.gcf()\n",
    "    fig.suptitle(str(numScans)+' Averaged PLE Scans; $B_{ext,Z}$ = ' + str(B) + 'kG', x=0.5, y=.98)\n",
    "\n",
    "    ax2 = ax.twiny()\n",
    "\n",
    "\n",
    "    def tick_function(X):\n",
    "        c = 299792458\n",
    "        aveWvln = (max(xs)+min(xs))/2\n",
    "        aveFreq = (c/(aveWvln*10**-9))*10**-9\n",
    "        V = aveFreq - (c/(X*10**-9))*10**-9\n",
    "        return [\"%.2f\" % z for z in V]\n",
    "\n",
    "\n",
    "    ax2.set_xlim(ax.get_xlim())\n",
    "    locs = ax.get_xticks()\n",
    "    ax2.set_xticks(locs)\n",
    "    ax2.set_xticklabels(tick_function(locs))\n",
    "    ax2.set_xlabel(r\"$\\Delta$ Frequency (GHz)\")\n",
    "\n",
    "\n",
    "\n",
    "    ax.set_xlabel('Wavelength (nm)')\n",
    "    ax.set_ylabel('Counts/s')\n",
    "\n",
    "    if not isdir(save_loc): \n",
    "        mkdir(save_loc)\n",
    "    \n",
    "    plt.savefig(save_loc + str(B) +\"kG_\"+ str(numScans) +'numscans_'+'avgdScans.pdf')\n",
    "    "
   ]
  },
  {
   "cell_type": "code",
   "execution_count": 6,
   "metadata": {
    "collapsed": false
   },
   "outputs": [
    {
     "name": "stdout",
     "output_type": "stream",
     "text": [
      "['0.5', '1.0', '1.5', '2.0', '2.5', '3.0', '3.5', '4.0', '4.5', '5.0', '5.5', '6.0', '6.5', '7.0', '7.5', '8.0', '8.5', '9.0', '9.5', '10.0']\n",
      "[]\n",
      "20\n",
      "5\n",
      "5\n"
     ]
    }
   ],
   "source": [
    "datsuperlist= []\n",
    "fields = b_fields\n",
    "#list the above values in numerical order, or else color plot will not display y axis in order\n",
    "mypath = file_loc\n",
    "fieldlist = []\n",
    "\n",
    "datfiles = [f for f in listdir(mypath) if isfile(join(mypath, f))]\n",
    "\n",
    "#find fields\n",
    "if len(fields) == 0:\n",
    "    for df in datfiles:    \n",
    "        if df.find(\"kG\") != -1 and df.find('collected') == -1 and df.find('.dat')!=-1 : #substring in string\n",
    "            magfield = df.split(\"_\")[4]\n",
    "            magfield = magfield.split(\"kG\")[0]\n",
    "            fieldlist.append(magfield)\n",
    "            fieldlist = np.unique(np.array(fieldlist)).tolist()\n",
    "         \n",
    "        title_date_str = datfiles[0].split(\"-\")[0]\n",
    "    fieldlist.sort(key=float)\n",
    "    fields = fieldlist\n",
    "\n",
    "print(fields)\n",
    "\n",
    "for m, fld in enumerate(fields):\n",
    "    field = fld\n",
    "    datlist = list()\n",
    "\n",
    "    \n",
    "    for df in datfiles: \n",
    "        if (df.find(field+\"kG\") != -1 or df.find(str(float(field))+\"kG\")) != -1  and df.find('.dat')!=-1 \\\n",
    "            and df.find('collected') == -1: #substring in string\n",
    "            #e.g., datfile = '2020_07_26_scans/20200725-2244-48_scan_vac_wavelength_test_aDs8a6m2b2_clines_3.2kG_1570nW_45deg__binned0.dat'\n",
    "            datlist.append(mypath + \"/\" + df)\n",
    "            \n",
    "    datsuperlist.append(datlist)\n",
    "    \n",
    "print(b_fields)\n",
    "print(len(datsuperlist))\n",
    "print(len(datsuperlist[0]))\n",
    "print(len(datsuperlist[1]))"
   ]
  },
  {
   "cell_type": "code",
   "execution_count": 7,
   "metadata": {
    "collapsed": false
   },
   "outputs": [
    {
     "name": "stdout",
     "output_type": "stream",
     "text": [
      "1803\n"
     ]
    },
    {
     "name": "stderr",
     "output_type": "stream",
     "text": [
      "C:\\Users\\loncargroup\\Anaconda3\\lib\\site-packages\\ipykernel_launcher.py:22: RuntimeWarning: Mean of empty slice\n",
      "C:\\Users\\loncargroup\\Anaconda3\\lib\\site-packages\\numpy\\lib\\nanfunctions.py:1628: RuntimeWarning: Degrees of freedom <= 0 for slice.\n",
      "  keepdims=keepdims)\n"
     ]
    }
   ],
   "source": [
    "#Get dmin, dmax, bn from all of the datasets\n",
    "dmin, dmax, bn = limitvals(datsuperlist)\n",
    "if bin_num != 0 and bin_num < bn:\n",
    "    bn = bin_num\n",
    "\n",
    "if x_wavelength: \n",
    "    xaxstr = \"x-wavelength\"\n",
    "else: \n",
    "    xaxstr = \"x-freq\"\n",
    "    \n",
    "title_str = title_date_str + '_' + title_str + '_'+ xaxstr + \"_binnum-\"+ str(bn)\n",
    "\n",
    "print(bn)\n",
    "\n",
    "sm_arrays = dict()\n",
    "\n",
    "for m, fld in enumerate(fields):\n",
    "    dlist = datsuperlist[m]\n",
    "    numScans = len(dlist)\n",
    "    \n",
    "    sm, xs = smoosh_arrays(dlist, dmin, dmax, bn)\n",
    "    means = np.nanmean(sm, axis=0)\n",
    "    stds = np.nanstd(sm, axis=0)/np.sqrt(len(dlist))\n",
    "\n",
    "    sm_arrays[fld] = means\n"
   ]
  },
  {
   "cell_type": "code",
   "execution_count": 8,
   "metadata": {
    "collapsed": false,
    "scrolled": true
   },
   "outputs": [
    {
     "name": "stdout",
     "output_type": "stream",
     "text": [
      "[736.56906 736.59177 736.61448 736.63719 736.6599 ]\n"
     ]
    },
    {
     "data": {
      "image/png": "[encoded data removed]",
      "text/plain": [
       "<Figure size 432x288 with 3 Axes>"
      ]
     },
     "metadata": {
      "needs_background": "light"
     },
     "output_type": "display_data"
    }
   ],
   "source": [
    "keys = np.array(list(map(float, sm_arrays.keys())))\n",
    "xi, yi = np.meshgrid(xs, keys)\n",
    "\n",
    "\n",
    "\n",
    "zi = [sm_arrays[x] for x in sm_arrays.keys()]\n",
    "\n",
    "\n",
    "zi = np.ma.array(zi,mask=np.isnan(zi))\n",
    "\n",
    "\n",
    "\n",
    "fig = plt.figure()\n",
    "fig.suptitle('', fontsize=14, fontweight='bold')\n",
    "\n",
    "ax = fig.add_subplot(111)\n",
    "fig.subplots_adjust(top=0.85)\n",
    "\n",
    "fig.suptitle('PLE Scan Magnet Sweep: ' + title_date_str, x=0.5, y=.98)\n",
    "\n",
    "if len(clim) == 0: \n",
    "    cmax = np.amax(zi)\n",
    "    cstr = 'autoclim'\n",
    "else:\n",
    "    cmax = clim\n",
    "    cstr = 'clim_' + str(clim) + 'cps'\n",
    "\n",
    "    \n",
    "    \n",
    "c = 299792458\n",
    "aveWvln = (max(xs)+min(xs))/2\n",
    "aveFreq = (c/(aveWvln*10**-9))*10**-9\n",
    "    \n",
    "\n",
    "if x_wavelength: \n",
    "    pcm = plt.imshow(zi, vmin = 0, vmax = cmax, extent = [np.amin(xi), np.amax(xi), np.amin(yi), np.amax(yi)], \\\n",
    "                    aspect = 'auto', cmap = 'viridis', origin='lower')\n",
    "    quarterw = (np.amin(xi) + aveWvln)/2\n",
    "    threequarterw = (np.amax(xi) + aveWvln)/2\n",
    "    topticklocs = np.array([np.amin(xi), quarterw, aveWvln, threequarterw, np.amax(xi)])\n",
    "    ax.set_xlabel('Wavelength (nm)')\n",
    "else: \n",
    "    xif = (c/(xi*10**-9))*10**-9\n",
    "    pcm = plt.imshow(np.flip(zi,1), vmin = 0, vmax = cmax, extent = [np.amin(xif), np.amax(xif), np.amin(yi), np.amax(yi)], \\\n",
    "                    aspect = 'auto', cmap = 'viridis', origin='lower')\n",
    "    ax.set_xlabel('Frequency (GHz)')\n",
    "    \n",
    "    minf = np.amin(xif)\n",
    "    maxf = np.amax(xif)\n",
    "    quarterf = (minf + aveFreq)/2\n",
    "    threequarterf = (maxf + aveFreq)/2\n",
    "    topticklocs = np.array([minf, quarterf, aveFreq, threequarterf, maxf])\n",
    "    \n",
    "\n",
    "\n",
    "\n",
    "ax2 = ax.twiny()\n",
    "\n",
    "def tick_function(X, wvln):\n",
    "    if wvln: \n",
    "        V = aveFreq - (c/(X*10**-9))*10**-9\n",
    "    else:\n",
    "        V = X - aveFreq\n",
    "    return [\"%.2f\" % z for z in V]\n",
    "        \n",
    "ax2.set_xlim(ax.get_xlim())\n",
    "\n",
    "print(topticklocs)\n",
    "\n",
    "ax2.set_xticks(topticklocs)\n",
    "ax2.set_xticklabels(tick_function(topticklocs, x_wavelength))\n",
    "\n",
    "ax2.set_xlabel(r\"$\\Delta$ Frequency (GHz)\")\n",
    "\n",
    "\n",
    "\n",
    "ax.set_ylabel('$B_{ext,Z}$ (kG)')\n",
    "\n",
    "\n",
    "cbar = plt.colorbar(ax=ax)\n",
    "\n",
    "\n",
    "cbar.set_label(\"counts/s\")\n",
    "\n",
    "if not isdir(save_loc): \n",
    "    mkdir(save_loc)\n",
    "\n",
    "plt.savefig(title_str + '_BSweep_' + cstr + '.pdf')\n",
    "\n",
    "plt.show()\n",
    "\n"
   ]
  },
  {
   "cell_type": "code",
   "execution_count": null,
   "metadata": {
    "collapsed": true
   },
   "outputs": [],
   "source": []
  },
  {
   "cell_type": "code",
   "execution_count": null,
   "metadata": {
    "collapsed": true
   },
   "outputs": [],
   "source": []
  }
 ],
 "metadata": {
  "anaconda-cloud": {},
  "kernelspec": {
   "display_name": "Python 3",
   "language": "python",
   "name": "python3"
  },
  "language_info": {
   "codemirror_mode": {
    "name": "ipython",
    "version": 3
   },
   "file_extension": ".py",
   "mimetype": "text/x-python",
   "name": "python",
   "nbconvert_exporter": "python",
   "pygments_lexer": "ipython3",
   "version": "3.6.9"
  }
 },
 "nbformat": 4,
 "nbformat_minor": 1
}
